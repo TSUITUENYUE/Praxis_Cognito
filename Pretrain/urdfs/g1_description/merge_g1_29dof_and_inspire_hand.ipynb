{
 "cells": [
  {
   "cell_type": "code",
   "metadata": {
    "ExecuteTime": {
     "end_time": "2025-07-11T18:49:12.133674Z",
     "start_time": "2025-07-11T18:49:12.130989Z"
    }
   },
   "source": [
    "import yaml\n",
    "f = open('inspire_hand/config.yaml')\n",
    "try:\n",
    "    config = yaml.load(f, Loader=yaml.FullLoader)\n",
    "finally:\n",
    "    f.close()"
   ],
   "outputs": [],
   "execution_count": 12
  },
  {
   "cell_type": "code",
   "metadata": {
    "ExecuteTime": {
     "end_time": "2025-07-11T18:49:13.336779Z",
     "start_time": "2025-07-11T18:49:13.330111Z"
    }
   },
   "source": [
    "import xml.etree.ElementTree as ET\n",
    "\n",
    "\n",
    "def merge_urdfs(g1_urdf, hand_type):\n",
    "    lhand_urdf = f\"./xhand_left_new/urdf/xhand_left.urdf\"\n",
    "    rhand_urdf = f\"./xhand_right_new/urdf/xhand_right.urdf\"\n",
    "    G1 = ET.parse(g1_urdf)\n",
    "    g1 = G1.getroot()\n",
    "    lhand = ET.parse(lhand_urdf).getroot()\n",
    "    rhand = ET.parse(rhand_urdf).getroot()\n",
    "\n",
    "    # clean\n",
    "    for element in g1:\n",
    "        name = element.attrib.get('name', None)\n",
    "        if element.tag == \"link\" and name in config['G1_remove_links']:\n",
    "            print('[INFO] Remove link', name)\n",
    "            g1.remove(element)\n",
    "\n",
    "    for element in g1:\n",
    "        name = element.attrib.get('name', None)\n",
    "        if element.tag == \"joint\" and name in config['G1_remove_joints']:\n",
    "            print('[INFO] Remove joint', name)\n",
    "            g1.remove(element)\n",
    "\n",
    "    '''\n",
    "    for element in lhand:\n",
    "        name = element.attrib.get('name', None)\n",
    "        if element.tag == \"link\" and name in config['L_hand_remove_links']:\n",
    "            lhand.remove(element)\n",
    "    for element in rhand:\n",
    "        name = element.attrib.get('name', None)\n",
    "        if element.tag == \"link\" and name in config['R_hand_remove_links']:\n",
    "            rhand.remove(element)\n",
    "    '''\n",
    "    # merge\n",
    "    for element in lhand:\n",
    "        if element.tag in [\"link\", \"joint\"]:\n",
    "            g1.append(element)\n",
    "    for element in rhand:\n",
    "        if element.tag in [\"link\", \"joint\"]:\n",
    "            g1.append(element)\n",
    "\n",
    "    output = g1_urdf[:-5] + f\"_with_xhand.urdf\"\n",
    "    G1.write(output)\n",
    "    print(f\"[INFO] Generate merged URDF file: {output} Done.\")\n",
    "\n",
    "\n",
    "merge_urdfs(g1_urdf=\"g1_29dof_rev_1_0.urdf\", hand_type=\"FTP\")\n",
    "#merge_urdfs(g1_urdf=\"g1_29dof_rev_1_0.urdf\", hand_type=\"DFQ\")"
   ],
   "outputs": [
    {
     "name": "stdout",
     "output_type": "stream",
     "text": [
      "[INFO] Remove link left_rubber_hand\n",
      "[INFO] Remove link right_rubber_hand\n",
      "[INFO] Remove joint left_hand_palm_joint\n",
      "[INFO] Remove joint right_hand_palm_joint\n",
      "[INFO] Generate merged URDF file: g1_29dof_rev_1_0_with_xhand.urdf Done.\n"
     ]
    }
   ],
   "execution_count": 13
  }
 ],
 "metadata": {
  "kernelspec": {
   "display_name": "rerun3x",
   "language": "python",
   "name": "python3"
  },
  "language_info": {
   "codemirror_mode": {
    "name": "ipython",
    "version": 3
   },
   "file_extension": ".py",
   "mimetype": "text/x-python",
   "name": "python",
   "nbconvert_exporter": "python",
   "pygments_lexer": "ipython3",
   "version": "3.10.16"
  }
 },
 "nbformat": 4,
 "nbformat_minor": 2
}
